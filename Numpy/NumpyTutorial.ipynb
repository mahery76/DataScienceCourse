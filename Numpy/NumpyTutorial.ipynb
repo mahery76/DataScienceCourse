{
 "cells": [
  {
   "cell_type": "markdown",
   "metadata": {},
   "source": [
    "### Creating arrays"
   ]
  },
  {
   "cell_type": "code",
   "execution_count": null,
   "metadata": {},
   "outputs": [],
   "source": [
    "import numpy as np\n",
    "\n",
    "# checking version\n",
    "# print(np.__version__)\n",
    "\n",
    "# create an ndarray\n",
    "arr = np.array([1,2,3,4,5])\n",
    "# print(arr)\n",
    "# print(type(arr))\n",
    "\n",
    "# Dimensions array\n",
    "# 0-D arrays\n",
    "arr = np.array(42)\n",
    "# print(arr)\n",
    "\n",
    "# 1-D arrays\n",
    "arr = np.array([1,2,3,4,5])\n",
    "# print(arr)\n",
    "\n",
    "# 2-D arrays\n",
    "arr = np.array([[1, 2, 3], [4, 5, 6]])\n",
    "# print(arr)\n",
    "\n",
    "# 2-D arrays\n",
    "arr = np.array([[1, 2, 3], [4, 5, 6]])\n",
    "# print(arr)\n",
    "\n",
    "# 3-D arrays \n",
    "arr = np.array([[[1, 2, 3], [4, 5, 6]], [[1, 2, 3], [4, 5, 6]]])\n",
    "# print(arr)\n",
    "# print(arr.ndim)\n",
    "\n",
    "\n",
    "arr = np.array([1,2,3,4], ndmin = 5)\n",
    "print(arr)\n",
    "print('number of dimension: ', arr.ndim)"
   ]
  },
  {
   "cell_type": "markdown",
   "metadata": {},
   "source": [
    "### Array indexing"
   ]
  },
  {
   "cell_type": "code",
   "execution_count": null,
   "metadata": {},
   "outputs": [],
   "source": [
    "import numpy as np\n",
    "\n",
    "#accessing 1D array element\n",
    "arr = np.array([1,2,3,4])\n",
    "# print(arr[0])\n",
    "\n",
    "#accessing 2D array element\n",
    "arr = np.array([[1,2,3,4,5], [6,7,8,9,10]])\n",
    "# print('the 2nd element on 1st row: ', arr[0, 1])\n",
    "\n",
    "#accessing 3D array element\n",
    "arr = np.array([[[1, 2, 3], [4, 5, 6]], [[7, 8, 9], [10, 11, 12]]])\n",
    "# print(arr[0, 1, 2])\n",
    "\n",
    "#negative indexing \n",
    "arr = np.array([[1,2,3,4,5], [6,7,8,9,10]])\n",
    "print('the last element from the second dim:' , arr[1, -2])\n",
    "\n"
   ]
  },
  {
   "cell_type": "markdown",
   "metadata": {},
   "source": [
    "### Data type\n",
    "i - integer\n",
    "b - boolean\n",
    "u - unsigned integer\n",
    "f - float\n",
    "c - complex float\n",
    "m - timedelta\n",
    "M - datetime\n",
    "O - object\n",
    "S - string\n",
    "U - unicode string\n",
    "V - fixed chunk of memory for other type ( void )"
   ]
  },
  {
   "cell_type": "code",
   "execution_count": null,
   "metadata": {},
   "outputs": [],
   "source": [
    "import numpy as np\n",
    "\n",
    "arr = np.array([1,2,3,4])\n",
    "print(arr.dtype)\n",
    "\n",
    "arr = np.array(['apple', 'banana', 'cherry'])\n",
    "print(arr.dtype)\n",
    "\n",
    "arr = np.array([1,2,3,4], dtype='S')\n",
    "print(arr.dtype)\n",
    "\n",
    "arr = np.array([1,2,3,4], dtype='i4')\n",
    "print(arr)\n",
    "print(arr.dtype)\n",
    "\n",
    "# arr = np.array(['a', '2', '3'], dtype='i')\n",
    "\n",
    "#converting the data type from float to integer \n",
    "arr = np.array([1.1, 2.1, 3.1])\n",
    "newarr = arr.astype('i')\n",
    "print(newarr)\n",
    "print(newarr.dtype)\n",
    "\n",
    "#converting the data type from integer to boolean\n",
    "arr = np.array([1, 0, 3])\n",
    "newarr = arr.astype(bool)\n",
    "print(newarr)\n",
    "print(newarr.dtype)"
   ]
  },
  {
   "cell_type": "markdown",
   "metadata": {},
   "source": [
    "### Array Slicing"
   ]
  },
  {
   "cell_type": "code",
   "execution_count": null,
   "metadata": {},
   "outputs": [],
   "source": [
    "import numpy as np\n",
    "\n",
    "arr = np.array([1, 2, 3, 4, 5, 6, 7])\n",
    "print(arr[1:5]) #[2, 3, 4, 5]\n",
    "print(arr[4:]) #[5, 6, 7]\n",
    "print(arr[:4]) #[1, 2, 3, 4]\n",
    "\n",
    "#Negative slicing\n",
    "print(arr[-3:-1]) #[5, 6]\n",
    "\n",
    "#Step\n",
    "print(arr[1:5:2])\n",
    "print(arr[::2])\n",
    "print(arr[1::2])\n",
    "\n",
    "#Slicing 2D-array\n",
    "arr = np.array([[1, 2, 3, 4, 5], [6, 7, 8, 9, 10]])\n",
    "# print(arr[0:])\n",
    "print(arr[1, 1:4]) #from the second element slice from index 1 to index 4 not included\n",
    "print(arr[0:2, 2]) #from the first two elements, return index 2\n",
    "print(arr[0:2, 1:4]) #from the first two elements, slice from index 1 to index 4 not included"
   ]
  },
  {
   "cell_type": "markdown",
   "metadata": {},
   "source": [
    "### Copy vs View\n",
    "The copy owns the data and any changes made to the copy will not affect original array, and any changes made to the original array will not affect the copy.\n",
    "\n",
    "The view does not own the data and any changes made to the view will affect the original array, and any changes made to the original array will affect the view."
   ]
  },
  {
   "cell_type": "code",
   "execution_count": null,
   "metadata": {},
   "outputs": [],
   "source": [
    "import numpy as np\n",
    "arr = np.array([1,2,3,4,5])\n",
    "x = arr.copy()\n",
    "arr[0] = 42\n",
    "\n",
    "print(arr)\n",
    "print(x)"
   ]
  },
  {
   "cell_type": "code",
   "execution_count": null,
   "metadata": {},
   "outputs": [],
   "source": [
    "import numpy as np\n",
    "arr = np.array([1,2,3,4,5])\n",
    "x = arr.view()\n",
    "x[0] = 42\n",
    "\n",
    "print(arr)\n",
    "print(x)"
   ]
  },
  {
   "cell_type": "markdown",
   "metadata": {},
   "source": [
    "### Check if Array Owns its Data\n",
    "As mentioned above, copies owns the data, and views does not own the data, but how can we check this?\n",
    "\n",
    "Every NumPy array has the attribute base that returns None if the array owns the data.\n",
    "\n",
    "Otherwise, the base  attribute refers to the original object."
   ]
  },
  {
   "cell_type": "code",
   "execution_count": null,
   "metadata": {},
   "outputs": [],
   "source": [
    "import numpy as np\n",
    "arr = np.array([1,2,3,4,5])\n",
    "x = arr.copy()\n",
    "y = arr.view()\n",
    "print(x.base)\n",
    "print(y.base)"
   ]
  },
  {
   "cell_type": "markdown",
   "metadata": {},
   "source": [
    "### Get the shape of an array "
   ]
  },
  {
   "cell_type": "code",
   "execution_count": null,
   "metadata": {},
   "outputs": [],
   "source": [
    "import numpy as np\n",
    "arr = np.array([[1, 2, 3, 4], [5, 6, 7, 8]])\n",
    "# print(arr.shape)\n",
    "\n",
    "arr = np.array ([1, 2, 3, 4], ndmin=5)\n",
    "print(arr)\n",
    "print('shape of array :', arr.shape)"
   ]
  },
  {
   "cell_type": "markdown",
   "metadata": {},
   "source": [
    "### Reshape array\n",
    "reshape the array of two dimension into an array that has 4 rows and 3 columns"
   ]
  },
  {
   "cell_type": "code",
   "execution_count": null,
   "metadata": {},
   "outputs": [],
   "source": [
    "import numpy as np\n",
    "arr = np.array([1, 2, 3, 4, 5, 6, 7, 8, 9, 10, 11, 12])\n",
    "newarr = arr.reshape(4,3)\n",
    "print(newarr)"
   ]
  },
  {
   "cell_type": "markdown",
   "metadata": {},
   "source": [
    "### Iteration"
   ]
  },
  {
   "cell_type": "code",
   "execution_count": null,
   "metadata": {},
   "outputs": [],
   "source": [
    "import numpy as np\n",
    "\n",
    "# arr = np.array([1, 2, 3])\n",
    "# for x in arr:\n",
    "#     print(x)\n",
    "    \n",
    "    \n",
    "# arr = np.array([[1, 2, 3], [4, 5, 6]])\n",
    "# for x in arr:\n",
    "#     for y in x:\n",
    "#         print(y)\n",
    "\n",
    "arr = np.array([[[1, 2, 3], [4, 5, 6]], [[7, 8, 9], [10, 11, 12]]])\n",
    "for x in arr:\n",
    "  for y in x:\n",
    "    for z in y:\n",
    "      print(z)\n",
    "  "
   ]
  },
  {
   "cell_type": "markdown",
   "metadata": {},
   "source": [
    "### itteration with nditer \n",
    "It is an efficient to itterate an array "
   ]
  },
  {
   "cell_type": "code",
   "execution_count": null,
   "metadata": {},
   "outputs": [],
   "source": [
    "import numpy as np\n",
    "\n",
    "arr = np.array([[[1, 2], [3, 4]], [[5, 6], [7, 8]]])\n",
    "\n",
    "# for x in np.nditer(arr):\n",
    "#     print(x)\n",
    "\n",
    "for x in np.nditer(arr[:, ::2]):\n",
    "    print(x)\n",
    "\n"
   ]
  },
  {
   "cell_type": "markdown",
   "metadata": {},
   "source": [
    "### Enumerated Iteration Using ndenumerate()\n",
    "get the index of the element while itteratint throw an array"
   ]
  },
  {
   "cell_type": "code",
   "execution_count": null,
   "metadata": {},
   "outputs": [],
   "source": [
    "import numpy as np\n",
    "\n",
    "# arr = np.array([1, 2, 3])\n",
    "# for idx, x in np.ndenumerate(arr):\n",
    "#     print(idx, x)\n",
    "\n",
    "arr = np.array([[1, 2, 3, 4], [5, 6, 7, 8]])\n",
    "\n",
    "for idx, x in np.ndenumerate(arr):\n",
    "    if x == 5:\n",
    "        print(idx, x)\n",
    "        "
   ]
  },
  {
   "cell_type": "markdown",
   "metadata": {},
   "source": [
    "### Joining numpy array using concatenate"
   ]
  },
  {
   "cell_type": "code",
   "execution_count": null,
   "metadata": {},
   "outputs": [],
   "source": [
    "import numpy as np\n",
    "\n",
    "# arr1 = np.array([1, 2, 3])\n",
    "# arr2 = np.array([4, 5, 6])\n",
    "# arr = np.concatenate((arr1, arr2))\n",
    "# print(arr)\n",
    "\n",
    "arr1 = np.array([[1, 2], [3, 4]])\n",
    "arr2 = np.array([[5, 6], [7, 8]])\n",
    "arr = np.concatenate((arr1, arr2))\n",
    "arrAxis1 = np.concatenate((arr1, arr2), axis=1)\n",
    "print(arr)\n",
    "print(arrAxis1)\n"
   ]
  },
  {
   "cell_type": "markdown",
   "metadata": {},
   "source": [
    "### Joining arrays with Stack Functions"
   ]
  },
  {
   "cell_type": "code",
   "execution_count": null,
   "metadata": {},
   "outputs": [],
   "source": [
    "import numpy as np\n",
    "\n",
    "arr1 = np.array([1, 2, 3])\n",
    "arr2 = np.array([4, 5, 6])\n",
    "\n",
    "arr = np.stack((arr1, arr2)) \n",
    "# arr = np.stack((arr1, arr2), axis=1) \n",
    "harr = np.hstack((arr1, arr2)) # along rows\n",
    "varr = np.vstack((arr1, arr2)) # along columns\n",
    "darr = np.dstack((arr1, arr2)) # along depth\n",
    "\n",
    "print(arr)\n",
    "print(harr)\n",
    "print(varr)\n",
    "print(darr)\n"
   ]
  },
  {
   "cell_type": "markdown",
   "metadata": {},
   "source": [
    "### Split array "
   ]
  },
  {
   "cell_type": "code",
   "execution_count": null,
   "metadata": {},
   "outputs": [],
   "source": [
    "import numpy as np\n",
    "\n",
    "arr = np.array([1, 2, 3, 4, 5, 6, 7])\n",
    "newarr = np.array_split(arr, 3)\n",
    "# print(newarr)\n",
    "# print(newarr[0])\n",
    "\n",
    "arr = np.array([[1, 2], [3, 4], [5, 6], [7, 8], [9, 10], [11, 12]])\n",
    "newarr = np.array_split(arr, 3)\n",
    "# print(newarr)\n",
    "\n",
    "arr = np.array([[1, 2, 3], [4, 5, 6], [7, 8, 9], [10, 11, 12], [13, 14, 15], [16, 17, 18]])\n",
    "newarr = np.array_split(arr, 3)\n",
    "# print(newarr)\n",
    "\n",
    "#split along with the row \n",
    "arr = np.array([[1, 2, 3], [4, 5, 6], [7, 8, 9], [10, 11, 12], [13, 14, 15], [16, 17, 18]])\n",
    "newarr = np.array_split(arr, 3, axis=1)\n",
    "print(newarr)\n",
    "newarr = np.hsplit(arr, 3)\n",
    "print(newarr)\n"
   ]
  },
  {
   "cell_type": "markdown",
   "metadata": {},
   "source": [
    "### Searching Arrays and search sort \n",
    "- Find the index of an element"
   ]
  },
  {
   "cell_type": "code",
   "execution_count": null,
   "metadata": {},
   "outputs": [],
   "source": [
    "import numpy as np\n",
    "\n",
    "arr = np.array([1, 2, 3, 4, 5, 4, 4])\n",
    "x = np.where(arr == 4)\n",
    "print(type(x))\n",
    "print(x)\n",
    "\n",
    "# find the index that the values are odd\n",
    "arr = np.array([1, 2, 3, 4, 5, 6, 7, 8])\n",
    "x = np.where(arr%2 == 1)\n",
    "print(x)\n",
    "\n"
   ]
  },
  {
   "cell_type": "markdown",
   "metadata": {},
   "source": [
    "### Search sort \n",
    "- The searchsorted function helps you do exactly that. It tells you the position where the new number should go to keep the list in order."
   ]
  },
  {
   "cell_type": "code",
   "execution_count": null,
   "metadata": {},
   "outputs": [],
   "source": [
    "import numpy as np\n",
    "\n",
    "# Search sorted, and find the suitable position of 6 and insert it \n",
    "arr = np.array([5, 7, 8, 9])\n",
    "position = np.searchsorted(arr, 6)# from the left to right \n",
    "position = np.searchsorted(arr, 6, side='right')# from the right to right \n",
    "arr = np.insert(arr, position, 6)\n",
    "print(position)\n",
    "print(arr)\n",
    "\n",
    "arr = np.array([1, 3, 5, 7])\n",
    "positions = np.searchsorted(arr, [2, 4, 6])\n",
    "print(positions)"
   ]
  },
  {
   "cell_type": "markdown",
   "metadata": {},
   "source": [
    "### Sorting "
   ]
  },
  {
   "cell_type": "code",
   "execution_count": null,
   "metadata": {},
   "outputs": [],
   "source": [
    "import numpy as np\n",
    "\n",
    "arr = np.array([3, 2, 0, 1])\n",
    "print(np.sort(arr))\n",
    "\n",
    "arr = np.array(['banana', 'cherry', 'apple'])\n",
    "print(np.sort(arr))\n",
    "\n",
    "arr = np.array([True, False, True])\n",
    "print(np.sort(arr))\n",
    "\n",
    "arr = np.array([[3, 2, 4], [5, 0, 1]])\n",
    "print(np.sort(arr))\n"
   ]
  },
  {
   "cell_type": "markdown",
   "metadata": {},
   "source": [
    "### filtering array"
   ]
  },
  {
   "cell_type": "code",
   "execution_count": null,
   "metadata": {},
   "outputs": [],
   "source": [
    "import numpy as np\n",
    "arr = np.array([41, 42, 43, 44])\n",
    "\n",
    "#create an empty list \n",
    "filter_arr = []\n",
    "\n",
    "# go through each element in arr\n",
    "for element in arr:\n",
    "    # if the element is higher than 42, set the value to True, otherwise False:\n",
    "    if element > 42:\n",
    "        filter_arr.append(True)\n",
    "    else:\n",
    "        filter_arr.append(False)\n",
    "\n",
    "newarr = arr[filter_arr]\n",
    "\n",
    "print(filter_arr)\n",
    "print(newarr)\n",
    "\n",
    "\n"
   ]
  },
  {
   "cell_type": "code",
   "execution_count": null,
   "metadata": {},
   "outputs": [],
   "source": [
    "### Directly from array"
   ]
  },
  {
   "cell_type": "code",
   "execution_count": 19,
   "metadata": {},
   "outputs": [
    {
     "name": "stdout",
     "output_type": "stream",
     "text": [
      "[False False  True  True]\n",
      "[43 44]\n"
     ]
    }
   ],
   "source": [
    "import numpy as np\n",
    "\n",
    "arr = np.array([41, 42, 43, 44])\n",
    "filter_array = arr > 42\n",
    "newarr = arr[filter_arr]\n",
    "\n",
    "print(filter_array)\n",
    "print(newarr)"
   ]
  }
 ],
 "metadata": {
  "kernelspec": {
   "display_name": "venv",
   "language": "python",
   "name": "python3"
  },
  "language_info": {
   "codemirror_mode": {
    "name": "ipython",
    "version": 3
   },
   "file_extension": ".py",
   "mimetype": "text/x-python",
   "name": "python",
   "nbconvert_exporter": "python",
   "pygments_lexer": "ipython3",
   "version": "3.12.4"
  }
 },
 "nbformat": 4,
 "nbformat_minor": 2
}
