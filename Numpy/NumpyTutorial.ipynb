{
 "cells": [
  {
   "cell_type": "markdown",
   "metadata": {},
   "source": [
    "### Creating arrays"
   ]
  },
  {
   "cell_type": "code",
   "execution_count": null,
   "metadata": {},
   "outputs": [],
   "source": [
    "import numpy as np\n",
    "\n",
    "# checking version\n",
    "# print(np.__version__)\n",
    "\n",
    "# create an ndarray\n",
    "arr = np.array([1,2,3,4,5])\n",
    "# print(arr)\n",
    "# print(type(arr))\n",
    "\n",
    "# Dimensions array\n",
    "# 0-D arrays\n",
    "arr = np.array(42)\n",
    "# print(arr)\n",
    "\n",
    "# 1-D arrays\n",
    "arr = np.array([1,2,3,4,5])\n",
    "# print(arr)\n",
    "\n",
    "# 2-D arrays\n",
    "arr = np.array([[1, 2, 3], [4, 5, 6]])\n",
    "# print(arr)\n",
    "\n",
    "# 2-D arrays\n",
    "arr = np.array([[1, 2, 3], [4, 5, 6]])\n",
    "# print(arr)\n",
    "\n",
    "# 3-D arrays \n",
    "arr = np.array([[[1, 2, 3], [4, 5, 6]], [[1, 2, 3], [4, 5, 6]]])\n",
    "# print(arr)\n",
    "# print(arr.ndim)\n",
    "\n",
    "\n",
    "arr = np.array([1,2,3,4], ndmin = 5)\n",
    "print(arr)\n",
    "print('number of dimension: ', arr.ndim)"
   ]
  },
  {
   "cell_type": "markdown",
   "metadata": {},
   "source": [
    "### Array indexing"
   ]
  },
  {
   "cell_type": "code",
   "execution_count": null,
   "metadata": {},
   "outputs": [],
   "source": [
    "import numpy as np\n",
    "\n",
    "#accessing 1D array element\n",
    "arr = np.array([1,2,3,4])\n",
    "# print(arr[0])\n",
    "\n",
    "#accessing 2D array element\n",
    "arr = np.array([[1,2,3,4,5], [6,7,8,9,10]])\n",
    "# print('the 2nd element on 1st row: ', arr[0, 1])\n",
    "\n",
    "#accessing 3D array element\n",
    "arr = np.array([[[1, 2, 3], [4, 5, 6]], [[7, 8, 9], [10, 11, 12]]])\n",
    "# print(arr[0, 1, 2])\n",
    "\n",
    "#negative indexing \n",
    "arr = np.array([[1,2,3,4,5], [6,7,8,9,10]])\n",
    "print('the last element from the second dim:' , arr[1, -2])\n",
    "\n"
   ]
  },
  {
   "cell_type": "markdown",
   "metadata": {},
   "source": [
    "### Data type\n",
    "i - integer\n",
    "b - boolean\n",
    "u - unsigned integer\n",
    "f - float\n",
    "c - complex float\n",
    "m - timedelta\n",
    "M - datetime\n",
    "O - object\n",
    "S - string\n",
    "U - unicode string\n",
    "V - fixed chunk of memory for other type ( void )"
   ]
  },
  {
   "cell_type": "code",
   "execution_count": null,
   "metadata": {},
   "outputs": [],
   "source": [
    "import numpy as np\n",
    "\n",
    "arr = np.array([1,2,3,4])\n",
    "print(arr.dtype)\n",
    "\n",
    "arr = np.array(['apple', 'banana', 'cherry'])\n",
    "print(arr.dtype)\n",
    "\n",
    "arr = np.array([1,2,3,4], dtype='S')\n",
    "print(arr.dtype)\n",
    "\n",
    "arr = np.array([1,2,3,4], dtype='i4')\n",
    "print(arr)\n",
    "print(arr.dtype)\n",
    "\n",
    "# arr = np.array(['a', '2', '3'], dtype='i')\n",
    "\n",
    "#converting the data type from float to integer \n",
    "arr = np.array([1.1, 2.1, 3.1])\n",
    "newarr = arr.astype('i')\n",
    "print(newarr)\n",
    "print(newarr.dtype)\n",
    "\n",
    "#converting the data type from integer to boolean\n",
    "arr = np.array([1, 0, 3])\n",
    "newarr = arr.astype(bool)\n",
    "print(newarr)\n",
    "print(newarr.dtype)"
   ]
  },
  {
   "cell_type": "markdown",
   "metadata": {},
   "source": [
    "### Array Slicing"
   ]
  },
  {
   "cell_type": "code",
   "execution_count": null,
   "metadata": {},
   "outputs": [],
   "source": [
    "import numpy as np\n",
    "\n",
    "arr = np.array([1, 2, 3, 4, 5, 6, 7])\n",
    "print(arr[1:5]) #[2, 3, 4, 5]\n",
    "print(arr[4:]) #[5, 6, 7]\n",
    "print(arr[:4]) #[1, 2, 3, 4]\n",
    "\n",
    "#Negative slicing\n",
    "print(arr[-3:-1]) #[5, 6]\n",
    "\n",
    "#Step\n",
    "print(arr[1:5:2])\n",
    "print(arr[::2])\n",
    "print(arr[1::2])\n",
    "\n",
    "#Slicing 2D-array\n",
    "arr = np.array([[1, 2, 3, 4, 5], [6, 7, 8, 9, 10]])\n",
    "# print(arr[0:])\n",
    "print(arr[1, 1:4]) #from the second element slice from index 1 to index 4 not included\n",
    "print(arr[0:2, 2]) #from the first two elements, return index 2\n",
    "print(arr[0:2, 1:4]) #from the first two elements, slice from index 1 to index 4 not included"
   ]
  },
  {
   "cell_type": "markdown",
   "metadata": {},
   "source": [
    "### Copy vs View\n",
    "The copy owns the data and any changes made to the copy will not affect original array, and any changes made to the original array will not affect the copy.\n",
    "\n",
    "The view does not own the data and any changes made to the view will affect the original array, and any changes made to the original array will affect the view."
   ]
  },
  {
   "cell_type": "code",
   "execution_count": null,
   "metadata": {},
   "outputs": [],
   "source": [
    "import numpy as np\n",
    "arr = np.array([1,2,3,4,5])\n",
    "x = arr.copy()\n",
    "arr[0] = 42\n",
    "\n",
    "print(arr)\n",
    "print(x)"
   ]
  },
  {
   "cell_type": "code",
   "execution_count": null,
   "metadata": {},
   "outputs": [],
   "source": [
    "import numpy as np\n",
    "arr = np.array([1,2,3,4,5])\n",
    "x = arr.view()\n",
    "x[0] = 42\n",
    "\n",
    "print(arr)\n",
    "print(x)"
   ]
  },
  {
   "cell_type": "markdown",
   "metadata": {},
   "source": [
    "### Check if Array Owns its Data\n",
    "As mentioned above, copies owns the data, and views does not own the data, but how can we check this?\n",
    "\n",
    "Every NumPy array has the attribute base that returns None if the array owns the data.\n",
    "\n",
    "Otherwise, the base  attribute refers to the original object."
   ]
  },
  {
   "cell_type": "code",
   "execution_count": null,
   "metadata": {},
   "outputs": [],
   "source": [
    "import numpy as np\n",
    "arr = np.array([1,2,3,4,5])\n",
    "x = arr.copy()\n",
    "y = arr.view()\n",
    "print(x.base)\n",
    "print(y.base)"
   ]
  },
  {
   "cell_type": "markdown",
   "metadata": {},
   "source": [
    "### Get the shape of an array "
   ]
  },
  {
   "cell_type": "code",
   "execution_count": 9,
   "metadata": {},
   "outputs": [
    {
     "name": "stdout",
     "output_type": "stream",
     "text": [
      "(2, 4)\n"
     ]
    }
   ],
   "source": [
    "arr = np.array([[1, 2, 3, 4], [5, 6, 7, 8, ]])\n",
    "print(arr.shape)"
   ]
  }
 ],
 "metadata": {
  "kernelspec": {
   "display_name": "venv",
   "language": "python",
   "name": "python3"
  },
  "language_info": {
   "codemirror_mode": {
    "name": "ipython",
    "version": 3
   },
   "file_extension": ".py",
   "mimetype": "text/x-python",
   "name": "python",
   "nbconvert_exporter": "python",
   "pygments_lexer": "ipython3",
   "version": "3.12.4"
  }
 },
 "nbformat": 4,
 "nbformat_minor": 2
}
